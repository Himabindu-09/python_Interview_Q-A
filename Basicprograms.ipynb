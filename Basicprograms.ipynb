{
 "cells": [
  {
   "cell_type": "code",
   "execution_count": 23,
   "id": "32d3c5ca-a533-444f-9724-f3b4a631f906",
   "metadata": {},
   "outputs": [
    {
     "name": "stdout",
     "output_type": "stream",
     "text": [
      "1 is odd\n",
      "2 is even\n",
      "3 is odd\n",
      "4 is even\n",
      "5 is odd\n",
      "6 is even\n",
      "7 is odd\n",
      "8 is even\n",
      "9 is odd\n",
      "10 is even\n",
      "11 is odd\n",
      "12 is even\n",
      "13 is odd\n",
      "14 is even\n",
      "15 is odd\n",
      "16 is even\n",
      "17 is odd\n",
      "18 is even\n",
      "19 is odd\n",
      "20 is even\n",
      "21 is odd\n",
      "22 is even\n",
      "23 is odd\n",
      "24 is even\n",
      "25 is odd\n",
      "26 is even\n",
      "27 is odd\n",
      "28 is even\n",
      "29 is odd\n",
      "30 is even\n",
      "31 is odd\n",
      "32 is even\n",
      "33 is odd\n",
      "34 is even\n",
      "35 is odd\n",
      "36 is even\n",
      "37 is odd\n",
      "38 is even\n",
      "39 is odd\n",
      "40 is even\n",
      "41 is odd\n",
      "42 is even\n",
      "43 is odd\n",
      "44 is even\n",
      "45 is odd\n",
      "46 is even\n",
      "47 is odd\n",
      "48 is even\n",
      "49 is odd\n"
     ]
    }
   ],
   "source": [
    "#1. Write a python program to print even numbers and odd numbers\n",
    "\n",
    "for i in range(1,50):\n",
    "    if i%2==0:\n",
    "         print(i, \"is even\")\n",
    "    else:\n",
    "        print(i, \"is odd\")"
   ]
  },
  {
   "cell_type": "code",
   "execution_count": 13,
   "id": "32cbec34-dc49-42d6-882f-2b03dc821da3",
   "metadata": {},
   "outputs": [
    {
     "name": "stdin",
     "output_type": "stream",
     "text": [
      "Enter a number: 76\n"
     ]
    },
    {
     "name": "stdout",
     "output_type": "stream",
     "text": [
      "76 is even\n"
     ]
    }
   ],
   "source": [
    "#Write a python program to print even numbers and odd numbers using functions\n",
    "\n",
    "num = int(input(\"Enter a number:\"))\n",
    "def find_EvenOdd(num):\n",
    "    if(num%2 == 0):\n",
    "        print(num, \"is even\")\n",
    "    else:\n",
    "        print(num, \"is odd\")\n",
    "find_EvenOdd(num);\n"
   ]
  },
  {
   "cell_type": "code",
   "execution_count": 37,
   "id": "26157117-2b5f-45df-9ee9-24128a7e260b",
   "metadata": {},
   "outputs": [
    {
     "name": "stdout",
     "output_type": "stream",
     "text": [
      "The largest number is 7344\n"
     ]
    }
   ],
   "source": [
    "#2. write a python program to find max number among three numbers\n",
    "\n",
    "a= [112,7344,967]\n",
    "\n",
    "x = max(a)\n",
    "print(\"The largest number is\", x)"
   ]
  },
  {
   "cell_type": "code",
   "execution_count": 16,
   "id": "2131314d-b3ac-44b6-a1fb-e42d2005e105",
   "metadata": {},
   "outputs": [
    {
     "name": "stdout",
     "output_type": "stream",
     "text": [
      "largest is 90\n"
     ]
    }
   ],
   "source": [
    "#write a python program to find max number among three numbers using funtions\n",
    "\n",
    "def find_max(a, b, c):\n",
    "    if a > b and a > c: \n",
    "        print(\"largest is\", a)\n",
    "    elif b > a and b > c: \n",
    "        print(\"largest is\", b)\n",
    "    else: \n",
    "        print(\"largest is\", c)\n",
    "a, b, c = 56, 78, 90\n",
    "find_max(a, b, c)"
   ]
  },
  {
   "cell_type": "code",
   "execution_count": 30,
   "id": "5b69fe87-ee33-4349-b910-24de8d2f00c0",
   "metadata": {},
   "outputs": [
    {
     "name": "stdout",
     "output_type": "stream",
     "text": [
      "The smallest number is 4\n"
     ]
    }
   ],
   "source": [
    "#3. write a python program to find min number among three numbers\n",
    "\n",
    "a= [121,4,96]\n",
    "\n",
    "x = min(a)\n",
    "print(\"The smallest number is\", x)\n"
   ]
  },
  {
   "cell_type": "code",
   "execution_count": 20,
   "id": "1c7a0822-bb4c-4096-9ec3-5d282dcadc18",
   "metadata": {},
   "outputs": [
    {
     "name": "stdout",
     "output_type": "stream",
     "text": [
      "smallest is 56\n"
     ]
    }
   ],
   "source": [
    "#write a python program to find min number among three numbers using functions\n",
    "def min(a, b, c):\n",
    "    if a < b and a < c: \n",
    "        print(\"smallest is\", a)\n",
    "    elif b < a and b < c: \n",
    "        print(\"smallest is\", b)\n",
    "    else: \n",
    "        print(\"smallest is\", c)\n",
    "a, b, c = 56, 78, 90\n",
    "min(a, b, c)"
   ]
  },
  {
   "cell_type": "code",
   "execution_count": 7,
   "id": "176660e4-6d10-4ece-b2ee-b004882d1010",
   "metadata": {},
   "outputs": [
    {
     "name": "stdin",
     "output_type": "stream",
     "text": [
      "Enter your score: 98\n"
     ]
    },
    {
     "name": "stdout",
     "output_type": "stream",
     "text": [
      "Your Grade is A\n"
     ]
    }
   ],
   "source": [
    "#4. write a python program for grading system\n",
    "\n",
    "score = int(input(\"Enter your score:\"))\n",
    "if score>= 90:\n",
    "    grade = 'A'\n",
    "elif score>= 80:\n",
    "    grade = 'B'\n",
    "elif score>= 70:\n",
    "    grade = 'C'\n",
    "elif score>= 60:\n",
    "    grade = 'D'\n",
    "else:\n",
    "    grade = 'F'\n",
    "print(f\"Your Grade is {grade}\")\n",
    "#print(\"Grade:\", grade)"
   ]
  },
  {
   "cell_type": "code",
   "execution_count": 26,
   "id": "4fc5acaf-3a3c-4abf-a946-e9168c444ac0",
   "metadata": {},
   "outputs": [
    {
     "name": "stdout",
     "output_type": "stream",
     "text": [
      "False\n"
     ]
    },
    {
     "name": "stderr",
     "output_type": "stream",
     "text": [
      "<>:5: SyntaxWarning: \"is\" with 'str' literal. Did you mean \"==\"?\n",
      "<>:7: SyntaxWarning: \"is\" with 'str' literal. Did you mean \"==\"?\n",
      "<>:9: SyntaxWarning: \"is\" with 'str' literal. Did you mean \"==\"?\n",
      "<>:11: SyntaxWarning: \"is\" with 'str' literal. Did you mean \"==\"?\n",
      "<>:13: SyntaxWarning: \"is\" with 'str' literal. Did you mean \"==\"?\n",
      "<>:5: SyntaxWarning: \"is\" with 'str' literal. Did you mean \"==\"?\n",
      "<>:7: SyntaxWarning: \"is\" with 'str' literal. Did you mean \"==\"?\n",
      "<>:9: SyntaxWarning: \"is\" with 'str' literal. Did you mean \"==\"?\n",
      "<>:11: SyntaxWarning: \"is\" with 'str' literal. Did you mean \"==\"?\n",
      "<>:13: SyntaxWarning: \"is\" with 'str' literal. Did you mean \"==\"?\n",
      "C:\\Users\\DELL\\AppData\\Local\\Temp\\ipykernel_2772\\3128033524.py:5: SyntaxWarning: \"is\" with 'str' literal. Did you mean \"==\"?\n",
      "  print(\"Grade\" is 'A')\n",
      "C:\\Users\\DELL\\AppData\\Local\\Temp\\ipykernel_2772\\3128033524.py:7: SyntaxWarning: \"is\" with 'str' literal. Did you mean \"==\"?\n",
      "  print(\"Grade\" is 'B')\n",
      "C:\\Users\\DELL\\AppData\\Local\\Temp\\ipykernel_2772\\3128033524.py:9: SyntaxWarning: \"is\" with 'str' literal. Did you mean \"==\"?\n",
      "  print(\"Grade\" is 'C')\n",
      "C:\\Users\\DELL\\AppData\\Local\\Temp\\ipykernel_2772\\3128033524.py:11: SyntaxWarning: \"is\" with 'str' literal. Did you mean \"==\"?\n",
      "  print(\"Grade\" is 'D')\n",
      "C:\\Users\\DELL\\AppData\\Local\\Temp\\ipykernel_2772\\3128033524.py:13: SyntaxWarning: \"is\" with 'str' literal. Did you mean \"==\"?\n",
      "  print(\"Grade\" is 'E')\n"
     ]
    }
   ],
   "source": [
    "#write a python program for grading system using functions\n",
    "\n",
    "def Grade(score):\n",
    "    if score>= 90:\n",
    "        print(\"Grade is\", 'A')\n",
    "    elif score>= 80:\n",
    "        print(\"Grade is\", 'B')\n",
    "    elif score>= 70:\n",
    "        print(\"Grade is\", 'C')\n",
    "    elif score>= 60:\n",
    "        print(\"Grade is\", 'D')\n",
    "    else:\n",
    "        print(\"Grade\" is 'E')\n",
    "Grade(78)\n"
   ]
  },
  {
   "cell_type": "code",
   "execution_count": null,
   "id": "e8a5f263-954c-4698-ba2b-c3f27f7538f6",
   "metadata": {},
   "outputs": [],
   "source": []
  },
  {
   "cell_type": "code",
   "execution_count": null,
   "id": "c09f0acb-ab51-437c-93dc-e06c231cb14b",
   "metadata": {},
   "outputs": [],
   "source": []
  }
 ],
 "metadata": {
  "kernelspec": {
   "display_name": "Python 3 (ipykernel)",
   "language": "python",
   "name": "python3"
  },
  "language_info": {
   "codemirror_mode": {
    "name": "ipython",
    "version": 3
   },
   "file_extension": ".py",
   "mimetype": "text/x-python",
   "name": "python",
   "nbconvert_exporter": "python",
   "pygments_lexer": "ipython3",
   "version": "3.12.4"
  }
 },
 "nbformat": 4,
 "nbformat_minor": 5
}
