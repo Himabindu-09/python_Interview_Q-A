{
 "cells": [
  {
   "cell_type": "code",
   "execution_count": 11,
   "id": "abaa8dae-a29b-4552-85e4-3459c55da01c",
   "metadata": {},
   "outputs": [
    {
     "name": "stdout",
     "output_type": "stream",
     "text": [
      "Yes\n"
     ]
    }
   ],
   "source": [
    "#1.python program to check if a string is palindrome\n",
    "\n",
    "def isPalindrome(s):\n",
    "    return s == s[::-1]\n",
    "s = \"refer\"\n",
    "result = isPalindrome(s)\n",
    "\n",
    "if result:\n",
    "    print(\"Yes\")\n",
    "else:\n",
    "    print(\"No\")\n"
   ]
  },
  {
   "cell_type": "code",
   "execution_count": 13,
   "id": "ae1f830e-89e9-403e-b015-61c70ee582e6",
   "metadata": {},
   "outputs": [
    {
     "name": "stdout",
     "output_type": "stream",
     "text": [
      "The factorial of 7 is 5040\n"
     ]
    }
   ],
   "source": [
    "#2.python program to find the factorial of a number\n",
    "\n",
    "def factorial(x):\n",
    "    if x == 1:\n",
    "        return 1\n",
    "    else:\n",
    "        return x * factorial(x - 1)\n",
    "\n",
    "num = 7  \n",
    "result = factorial(num)\n",
    "print(f\"The factorial of {num} is {result}\")"
   ]
  },
  {
   "cell_type": "code",
   "execution_count": 47,
   "id": "3b061887-8c64-4022-b8bc-c1e6aa882e20",
   "metadata": {},
   "outputs": [
    {
     "name": "stdout",
     "output_type": "stream",
     "text": [
      "largest is 89\n"
     ]
    }
   ],
   "source": [
    "#3.python program to find the largest number among three.\n",
    "\n",
    "def find_largest(a, b, c):\n",
    "    if a > b and a > c: \n",
    "        print(\"largest is\", a)\n",
    "    elif b > a and b > c: \n",
    "        print(\"largest is\", b)\n",
    "    else: \n",
    "        print(\"largest is\", c)\n",
    "a, b, c = 66, 89, 50\n",
    "find_largest(a, b, c)"
   ]
  },
  {
   "cell_type": "code",
   "execution_count": 17,
   "id": "005f8810-515e-4e23-a5e5-475c8f8b62c4",
   "metadata": {},
   "outputs": [
    {
     "name": "stdout",
     "output_type": "stream",
     "text": [
      "Reverse of the string is :  AIDNI\n"
     ]
    }
   ],
   "source": [
    "#4.write a python program to reverse a string\n",
    "\n",
    "def rev_str(string):\n",
    "    return \"\".join(reversed(string))\n",
    "\n",
    "print(\"Reverse of the string is : \", rev_str(\"INDIA\"))"
   ]
  },
  {
   "cell_type": "code",
   "execution_count": 45,
   "id": "198950d9-5e60-4dc5-8a37-a0b8e7be50e0",
   "metadata": {},
   "outputs": [
    {
     "name": "stdout",
     "output_type": "stream",
     "text": [
      "smallest is 56\n"
     ]
    }
   ],
   "source": [
    "#5. write a python program to find smallest number among three.\n",
    "\n",
    "def min(a, b, c):\n",
    "    if a < b and a < c: \n",
    "        print(\"smallest is\", a)\n",
    "    elif b < a and b < c: \n",
    "        print(\"smallest is\", b)\n",
    "    else: \n",
    "        print(\"smallest is\", c)\n",
    "a, b, c = 56, 78, 90\n",
    "min(a, b, c)\n"
   ]
  },
  {
   "cell_type": "code",
   "execution_count": 21,
   "id": "489462e3-6dfa-4e63-9f86-42e8e59f243b",
   "metadata": {},
   "outputs": [
    {
     "name": "stdout",
     "output_type": "stream",
     "text": [
      "23 is a Prime number:True\n",
      "126 is a Prime number:True\n"
     ]
    }
   ],
   "source": [
    "#6. write a python program to check if a number is prime\n",
    "\n",
    "def isPrime(N):\n",
    "    for number in range(2, N):\n",
    "        if number % N == 0:\n",
    "            return False\n",
    "    return True\n",
    "\n",
    "\n",
    "input_number = 23\n",
    "output = isPrime(input_number)\n",
    "print(\"{} is a Prime number:{}\".format(input_number, output))\n",
    "input_number = 126\n",
    "output = isPrime(input_number)\n",
    "print(\"{} is a Prime number:{}\".format(input_number, output))"
   ]
  },
  {
   "cell_type": "code",
   "execution_count": 43,
   "id": "ebd75fba-73b2-461f-a1e3-43918fc7b236",
   "metadata": {},
   "outputs": [
    {
     "name": "stdout",
     "output_type": "stream",
     "text": [
      "a: 6\n",
      "b: 4\n"
     ]
    }
   ],
   "source": [
    "#7.write a python program to check to swap the elements without taking any temp value\n",
    "\n",
    "def swap(a,b):\n",
    "    a, b = b, a\n",
    "    print(\"a:\", a)\n",
    "    print(\"b:\", b)\n",
    "\n",
    "swap(4,6)"
   ]
  },
  {
   "cell_type": "code",
   "execution_count": 25,
   "id": "ccc9dfbe-8ce5-40da-a6fb-165a06103782",
   "metadata": {},
   "outputs": [
    {
     "name": "stdout",
     "output_type": "stream",
     "text": [
      "['u', 'n', 'm', 'i', 'i', 'h', 'd', 'b', 'a']\n"
     ]
    }
   ],
   "source": [
    "#8. python program to sort characters of string in descending order.\n",
    "\n",
    "def Char_sort_desc(s):\n",
    "    a = str(s)\n",
    "    print(sorted(a)[::-1])\n",
    "\n",
    "Char_sort_desc(\"himabindu\")"
   ]
  },
  {
   "cell_type": "code",
   "execution_count": 27,
   "id": "cc89accd-01e2-4be3-b163-01434a299440",
   "metadata": {},
   "outputs": [
    {
     "name": "stdout",
     "output_type": "stream",
     "text": [
      "['a', 'b', 'd', 'h', 'i', 'i', 'm', 'n', 'u']\n"
     ]
    }
   ],
   "source": [
    "#9.python program to sort characters of string in ascending order.\n",
    "\n",
    "def Char_sort_Asc(s):\n",
    "    a = str(s)\n",
    "    print(sorted(a))\n",
    "\n",
    "Char_sort_Asc(\"himabindu\")"
   ]
  },
  {
   "cell_type": "code",
   "execution_count": 31,
   "id": "29462278-f79f-4d7c-b10b-50e12913a83b",
   "metadata": {},
   "outputs": [
    {
     "name": "stdout",
     "output_type": "stream",
     "text": [
      "Original string: Hello, World!\n",
      "Copied string: Hello, World!\n"
     ]
    }
   ],
   "source": [
    "#10. python program to copy one string to another string\n",
    "\n",
    "def copy_string(input_string):\n",
    "    new_string = input_string[:]\n",
    "    return new_string\n",
    "\n",
    "original_string = \"Hello, World!\"\n",
    "copied_string = copy_string(original_string)\n",
    "\n",
    "print(f\"Original string: {original_string}\")\n",
    "print(f\"Copied string: {copied_string}\")"
   ]
  },
  {
   "cell_type": "code",
   "execution_count": 35,
   "id": "5e9cb852-1438-40a4-9d9a-0dce82bcb0ef",
   "metadata": {},
   "outputs": [
    {
     "name": "stdin",
     "output_type": "stream",
     "text": [
      "Enter the First  =  45\n",
      "Enter the Second =  67\n"
     ]
    },
    {
     "name": "stdout",
     "output_type": "stream",
     "text": [
      "Least Common Multiple =  3015\n"
     ]
    }
   ],
   "source": [
    "#11. python program to calculate the L.C.M of two given numbers.\n",
    "\n",
    "def lcm(a, b):\n",
    "    max_num = max(a, b)\n",
    "    while True:\n",
    "        if max_num % a == 0 and max_num % b == 0:\n",
    "            return max_num\n",
    "        max_num += 1\n",
    "\n",
    "a = int(input(\"Enter the First  = \"))\n",
    "b = int(input(\"Enter the Second = \"))\n",
    "\n",
    "print(\"Least Common Multiple = \", lcm(a, b))"
   ]
  },
  {
   "cell_type": "code",
   "execution_count": 39,
   "id": "b535f510-43f5-4131-ab89-ed633d95d9a4",
   "metadata": {},
   "outputs": [
    {
     "data": {
      "text/plain": [
       "25"
      ]
     },
     "execution_count": 39,
     "metadata": {},
     "output_type": "execute_result"
    }
   ],
   "source": [
    "#12. python program to calculate the square of a given number.\n",
    "\n",
    "def square(s):\n",
    "    result = s*s\n",
    "    return result\n",
    "\n",
    "square(5)"
   ]
  },
  {
   "cell_type": "code",
   "execution_count": 51,
   "id": "cfe771b1-e1df-4a3e-8931-b5f3ce8cb3a7",
   "metadata": {},
   "outputs": [
    {
     "name": "stdout",
     "output_type": "stream",
     "text": [
      "largest in  [43, 98, 76, 30, 36, 58, 7, 24] is\n",
      "98\n"
     ]
    }
   ],
   "source": [
    "#13.python program to find the largest element in a list. \n",
    "\n",
    "def largest(list):\n",
    "    large= list[0]\n",
    "    for i in list:\n",
    "        if i>large:\n",
    "            large=i\n",
    "    return large\n",
    "\n",
    "list=[43, 98, 76, 30, 36, 58, 7, 24]\n",
    "print(\"largest in \",list,\"is\")\n",
    "print(largest(list))\n"
   ]
  },
  {
   "cell_type": "code",
   "execution_count": 53,
   "id": "31d7cb36-fa30-4cf9-9c9b-2e49e722508f",
   "metadata": {},
   "outputs": [
    {
     "name": "stdout",
     "output_type": "stream",
     "text": [
      "Smallest in  [43, 98, 76, 30, 36, 58, 7, 24] is\n",
      "7\n"
     ]
    }
   ],
   "source": [
    "#14. python program to find the smallest element in a list.\n",
    "\n",
    "def smallest(list):\n",
    "    small= list[0]\n",
    "    for i in list:\n",
    "        if i<small:\n",
    "            small=i\n",
    "    return small\n",
    "\n",
    "list=[43, 98, 76, 30, 36, 58, 7, 24]\n",
    "print(\"Smallest in \",list,\"is\")\n",
    "print(smallest(list))"
   ]
  },
  {
   "cell_type": "code",
   "execution_count": 102,
   "id": "71d92186-ea4d-48da-825c-0d2388f2cc4e",
   "metadata": {},
   "outputs": [
    {
     "name": "stdout",
     "output_type": "stream",
     "text": [
      "{'p': 3, 'i': 1, 'n': 1, 'e': 2, 'a': 1, 'l': 1}\n"
     ]
    }
   ],
   "source": [
    "#15. Write a python program to count the number of occurences of a character in a string.\n",
    "\n",
    "def count_char(str):\n",
    "    items = {}\n",
    "    for i in str:\n",
    "        if i in items:\n",
    "            items[i]+= 1\n",
    "        else:\n",
    "            items[i] =1\n",
    "    print(items)\n",
    "\n",
    "count_char(\"pineapple\")"
   ]
  },
  {
   "cell_type": "code",
   "execution_count": 86,
   "id": "c70affbf-776f-48c9-9f2e-b794dd7b8be9",
   "metadata": {},
   "outputs": [
    {
     "name": "stdout",
     "output_type": "stream",
     "text": [
      "3\n"
     ]
    }
   ],
   "source": [
    "#16. Write a python program to count vowels in word.\n",
    "\n",
    "def count_vowels(string):\n",
    "    vowels = 'aeiouAEIOU'\n",
    "    count = 0\n",
    "    for char in string:\n",
    "        if char in vowels:\n",
    "            count += 1\n",
    "    return count\n",
    "\n",
    "string = \"Hello, World!\"\n",
    "print(count_vowels(string))"
   ]
  },
  {
   "cell_type": "code",
   "execution_count": 90,
   "id": "84bdf9a4-f394-48aa-bdb4-cf29d901558e",
   "metadata": {},
   "outputs": [
    {
     "name": "stdout",
     "output_type": "stream",
     "text": [
      "[2, 4, 10, 20, 5]\n"
     ]
    }
   ],
   "source": [
    "#17. Write a python program to remove duplicates from a list.\n",
    "\n",
    "def Remove(list):\n",
    "    final_list = []\n",
    "    for num in list:\n",
    "        if num not in final_list:\n",
    "            final_list.append(num)\n",
    "    return final_list\n",
    "     \n",
    "list = [2, 4, 10, 20, 5, 2, 20, 4]\n",
    "print(Remove(list))"
   ]
  },
  {
   "cell_type": "code",
   "execution_count": 98,
   "id": "663a1101-4b97-4f76-b565-7b874858eca6",
   "metadata": {},
   "outputs": [
    {
     "name": "stdin",
     "output_type": "stream",
     "text": [
      "Enter size of list  6\n",
      "Enter element of list  90\n",
      "Enter element of list  56\n",
      "Enter element of list  45\n",
      "Enter element of list  89\n",
      "Enter element of list  34\n",
      "Enter element of list  26\n"
     ]
    },
    {
     "name": "stdout",
     "output_type": "stream",
     "text": [
      "second largest in  [90, 56, 45, 89, 34, 26] is\n",
      "89\n"
     ]
    }
   ],
   "source": [
    "#18. Write a python program to find the second largest number in a list.\n",
    "\n",
    "def second_largest(list):\n",
    "    list.sort()\n",
    "    return list[-2]\n",
    "\n",
    "li=[]\n",
    "n=int(input(\"Enter size of list \"))\n",
    "for i in range(0,n):\n",
    "    e=int(input(\"Enter element of list \"))\n",
    "    li.append(e)\n",
    "\n",
    "print(\"second largest in \",li,\"is\")\n",
    "print(second_largest(li))    "
   ]
  },
  {
   "cell_type": "code",
   "execution_count": 120,
   "id": "8c387066-d09f-42b9-89b1-de1973a2baaf",
   "metadata": {},
   "outputs": [
    {
     "name": "stdout",
     "output_type": "stream",
     "text": [
      "[3, 5]\n"
     ]
    }
   ],
   "source": [
    "#19. Write a python program to find the common elements between two lists.\n",
    "\n",
    "def common(a,b): \n",
    "    c = [value for value in a if value in b] \n",
    "    return c\n",
    "a=[2,3,4,5]\n",
    "b=[3,5,7,9]\n",
    "d=common(a,b)\n",
    "print(d)"
   ]
  },
  {
   "cell_type": "code",
   "execution_count": 133,
   "id": "c894bd64-c284-4897-966b-1cb70cc21426",
   "metadata": {},
   "outputs": [
    {
     "name": "stdout",
     "output_type": "stream",
     "text": [
      "{2: 2, 8: 1, 3: 4, 5: 2, 4: 4, 6: 3, 1: 1, 7: 2}\n"
     ]
    }
   ],
   "source": [
    "#20. Write a python program to count the frequency of each element in a list.\n",
    "\n",
    "def Count(li):\n",
    "    freq = {}\n",
    "    for item in li:\n",
    "        if (item in freq):\n",
    "            freq[item] += 1\n",
    "        else:\n",
    "            freq[item] = 1\n",
    "    print(freq) \n",
    "li =[2, 8, 3, 2, 5, 5, 3, 4, 3, 6, 1, 4, 6, 4, 4, 6, 7, 7, 3]\n",
    "Count(li)"
   ]
  },
  {
   "cell_type": "code",
   "execution_count": null,
   "id": "0f821054-3419-4fe8-81f7-60012f8c470f",
   "metadata": {},
   "outputs": [],
   "source": []
  }
 ],
 "metadata": {
  "kernelspec": {
   "display_name": "Python 3 (ipykernel)",
   "language": "python",
   "name": "python3"
  },
  "language_info": {
   "codemirror_mode": {
    "name": "ipython",
    "version": 3
   },
   "file_extension": ".py",
   "mimetype": "text/x-python",
   "name": "python",
   "nbconvert_exporter": "python",
   "pygments_lexer": "ipython3",
   "version": "3.12.4"
  }
 },
 "nbformat": 4,
 "nbformat_minor": 5
}
